{
 "cells": [
  {
   "cell_type": "code",
   "execution_count": 2,
   "metadata": {},
   "outputs": [
    {
     "name": "stdout",
     "output_type": "stream",
     "text": [
      "Sample data inserted/verified successfully!\n"
     ]
    }
   ],
   "source": [
    "from sqlalchemy.orm import Session\n",
    "from sqlalchemy import create_engine\n",
    "from db_schema import Base, User, UserProgress\n",
    "\n",
    "# Database setup\n",
    "SQLALCHEMY_DATABASE_URL = \"sqlite:///python_course.db\"\n",
    "engine = create_engine(SQLALCHEMY_DATABASE_URL)\n",
    "Base.metadata.create_all(bind=engine)\n",
    "\n",
    "def insert_sample_data():\n",
    "    with Session(engine) as db:\n",
    "        # Create or get test user\n",
    "        user = db.query(User).filter(User.id == 1).first()\n",
    "        if not user:\n",
    "            user = User(\n",
    "                id=1,\n",
    "                username=\"test_user\",\n",
    "                progress=[]\n",
    "            )\n",
    "            db.add(user)\n",
    "            db.commit()\n",
    "\n",
    "        # Create progress entry if doesn't exist\n",
    "        existing_progress = db.query(UserProgress).filter(\n",
    "            UserProgress.user_id == 1,\n",
    "            UserProgress.exercise_id == 1\n",
    "        ).first()\n",
    "\n",
    "        if not existing_progress:\n",
    "            user_progress = UserProgress(\n",
    "                user_id=1,\n",
    "                exercise_id=1,\n",
    "                completed=True,\n",
    "                input_data=\"\"\"def hello():\n",
    "    return \"Hello, world!\\\"\"\"\"\n",
    "            )\n",
    "            db.add(user_progress)\n",
    "            db.commit()\n",
    "        \n",
    "        print(\"Sample data inserted/verified successfully!\")\n",
    "\n",
    "insert_sample_data()"
   ]
  },
  {
   "cell_type": "code",
   "execution_count": 3,
   "metadata": {},
   "outputs": [
    {
     "name": "stdout",
     "output_type": "stream",
     "text": [
      "Row with ID 1 deleted from user_progress.\n"
     ]
    }
   ],
   "source": [
    "# Function to delete a row from any table\n",
    "def delete_row(table, row_id):\n",
    "    with Session(engine) as db:\n",
    "        row = db.query(table).filter_by(user_id=row_id).first() #switch user_id to id or back\n",
    "        if row:\n",
    "            db.delete(row)\n",
    "            db.commit()\n",
    "            print(f\"Row with ID {row_id} deleted from {table.__tablename__}.\")\n",
    "        else:\n",
    "            print(f\"Row with ID {row_id} not found in {table.__tablename__}.\")\n",
    "\n",
    "delete_row(UserProgress, 1)"
   ]
  }
 ],
 "metadata": {
  "kernelspec": {
   "display_name": "Python 3",
   "language": "python",
   "name": "python3"
  },
  "language_info": {
   "codemirror_mode": {
    "name": "ipython",
    "version": 3
   },
   "file_extension": ".py",
   "mimetype": "text/x-python",
   "name": "python",
   "nbconvert_exporter": "python",
   "pygments_lexer": "ipython3",
   "version": "3.12.7"
  }
 },
 "nbformat": 4,
 "nbformat_minor": 2
}
